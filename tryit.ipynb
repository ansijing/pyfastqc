{
 "cells": [
  {
   "cell_type": "code",
   "execution_count": 4,
   "metadata": {},
   "outputs": [
    {
     "name": "stdout",
     "output_type": "stream",
     "text": [
      "[[1, 2, 1, 2], [3, 4, 3, 4], [5, 6, 5, 6]]\n",
      "[ 6 14 22]\n"
     ]
    }
   ],
   "source": [
    "import numpy as np\n",
    "list_1 = [1, 2, 1, 2]\n",
    "list_2 = [3, 4, 3, 4]\n",
    "list_3 = [5, 6, 5, 6]\n",
    "list_t = [list_1, list_2, list_3]\n",
    "print(list_t)\n",
    "list_sum = np.array(list_t).sum(1)\n",
    "print(list_sum)\n",
    "#print(list_sum/3)\n",
    "#np.median(list_t, axis = 0)\n",
    "#np.percentile(list_t, 65, axis = 0)"
   ]
  },
  {
   "cell_type": "code",
   "execution_count": 22,
   "metadata": {},
   "outputs": [
    {
     "data": {
      "text/plain": [
       "3"
      ]
     },
     "execution_count": 22,
     "metadata": {},
     "output_type": "execute_result"
    }
   ],
   "source": [
    "import numpy as np\n",
    "list_1 = [1, 2, 1, 2]\n",
    "list_2 = [3, 4, 3, 4]\n",
    "list_3 = [5, 6, 5, 6]\n",
    "list_t = [list_1, list_2, list_3]\n",
    "list_t[1][0]\n",
    "\n"
   ]
  },
  {
   "cell_type": "code",
   "execution_count": 20,
   "metadata": {},
   "outputs": [
    {
     "name": "stdout",
     "output_type": "stream",
     "text": [
      "1\n",
      "2\n",
      "1\n",
      "2\n"
     ]
    }
   ],
   "source": [
    "import numpy as np\n",
    "list_1 = [1, 2, 1, 2]\n",
    "list_2 = [3, 4, 3, 4]\n",
    "list_3 = [5, 6, 5, 6]\n",
    "list_t = [list_1, list_2, list_3]\n",
    "i = 0\n",
    "for i in list_t[i]:\n",
    "    if list_t[i] == '1':\n",
    "            i += 1\n",
    "            list_tt = list\n",
    "    print(i)"
   ]
  },
  {
   "cell_type": "code",
   "execution_count": null,
   "metadata": {},
   "outputs": [],
   "source": [
    "import numpy as np\n",
    "from scipy.stats import norm\n",
    "import matplotlib.pyplot as plt\n",
    "\n",
    "\n",
    "# Generate some data for this demonstration.\n",
    "data = norm.rvs(10.0, 2.5, size=500)\n",
    "\n",
    "# Fit a normal distribution to the data:\n",
    "mu, std = norm.fit(data)\n"
   ]
  },
  {
   "cell_type": "code",
   "execution_count": 22,
   "metadata": {},
   "outputs": [
    {
     "data": {
      "image/png": "[encoded data removed]",
      "text/plain": [
       "<Figure size 432x288 with 1 Axes>"
      ]
     },
     "metadata": {
      "needs_background": "light"
     },
     "output_type": "display_data"
    }
   ],
   "source": []
  },
  {
   "cell_type": "code",
   "execution_count": null,
   "metadata": {},
   "outputs": [],
   "source": []
  },
  {
   "cell_type": "code",
   "execution_count": 39,
   "metadata": {},
   "outputs": [
    {
     "data": {
      "image/png": "[encoded data removed]",
      "text/plain": [
       "<Figure size 432x288 with 1 Axes>"
      ]
     },
     "metadata": {
      "needs_background": "light"
     },
     "output_type": "display_data"
    }
   ],
   "source": [
    "import matplotlib.pyplot as plt\n",
    "fig = plt.figure()  # 创建画布\n",
    "ax = plt.subplot()  # 创建作图区域\n",
    "ax.boxplot([[1200, 1300, 1400, 1500, 1600, 1700, 1800, 1900, 2000, 2100],  [120, 130, 140, 150, 160, 170, 180, 190, 200, 210]], whis=[10, 90],notch=True)   # 设置最大值不超过90分位点；最小值不小于10%分位点。\n",
    "# 修改x轴下标\n",
    "ax.set_xticks([1, 2])\n",
    "ax.set_xticklabels(['first', 'second'])\n",
    "# 显示y坐标轴的底线\n",
    "plt.grid(axis='y')\n",
    "plt.show()"
   ]
  },
  {
   "cell_type": "code",
   "execution_count": 14,
   "metadata": {},
   "outputs": [
    {
     "data": {
      "text/plain": [
       "<Figure size 640x480 with 1 Axes>"
      ]
     },
     "metadata": {},
     "output_type": "display_data"
    }
   ],
   "source": [
    "import matplotlib.pyplot as plt\n",
    "fig = plt.figure()  # 创建画布\n",
    "ax = plt.subplot()  # 创建作图区域\n",
    "ax.boxplot(list_t, whis=[10, 90],notch=True)   # 设置最大值不超过90分位点；最小值不小于10%分位点。\n",
    "# 修改x轴下标\n",
    "#ax.set_xticks([1, 2])\n",
    "#ax.set_xticklabels(['first', 'second'])\n",
    "# 显示y坐标轴的底线\n",
    "plt.grid(axis='y')\n",
    "plt.show()"
   ]
  },
  {
   "cell_type": "code",
   "execution_count": 23,
   "metadata": {},
   "outputs": [
    {
     "name": "stdout",
     "output_type": "stream",
     "text": [
      "[[0 1 0 1]\n",
      " [2 3 2 3]\n",
      " [4 5 4 5]]\n"
     ]
    }
   ],
   "source": [
    "    #fig = plt.figure()  # 创建画布\n",
    "    #ax = plt.subplot()  # 创建作图区域\n",
    "list_1 = [1, 2, 1, 2]\n",
    "list_2 = [3, 4, 3, 4]\n",
    "list_3 = [5, 6, 5, 6]\n",
    "seq_score_list_1 = [list_1, list_2, list_3]\n",
    "seq_score_list = np.array(seq_score_list_1) - 1\n",
    "print(seq_score_list)\n"
   ]
  },
  {
   "cell_type": "code",
   "execution_count": 13,
   "metadata": {},
   "outputs": [
    {
     "name": "stdout",
     "output_type": "stream",
     "text": [
      "[0. 1. 0. 1.]\n"
     ]
    }
   ],
   "source": [
    "list_1 = [1, 2, 1, 2] \n",
    "list_2 = [3, 4, 3, 4]\n",
    "list_3 = [5, 6, 5, 6]\n",
    "list_4 = np.ones(4)*3\n",
    "seq_score_list = list_2 - list_4\n",
    "print(seq_score_list)"
   ]
  },
  {
   "cell_type": "code",
   "execution_count": 24,
   "metadata": {},
   "outputs": [
    {
     "data": {
      "image/png": "[encoded data removed]",
      "text/plain": [
       "<Figure size 432x288 with 1 Axes>"
      ]
     },
     "metadata": {
      "needs_background": "light"
     },
     "output_type": "display_data"
    }
   ],
   "source": [
    "import matplotlib.pyplot as plt\n",
    "y1=[10,13,5,40,30,60,70,12,55,25]\n",
    "x1=range(0,10)\n",
    "x2=range(0,10)\n",
    "y2=[5,8,0,30,20,40,50,10,40,15]\n",
    "plt.plot(x1,y1,label='Frist line',linewidth=3,color='r',marker='o',\n",
    "markerfacecolor='blue',markersize=12)\n",
    "plt.plot(x2,y2,label='second line')\n",
    "plt.xlabel('Plot Number')\n",
    "plt.ylabel('Important var')\n",
    "plt.title('Interesting Graph\\nCheck it out')\n",
    "plt.legend()\n",
    "plt.show()\n"
   ]
  },
  {
   "cell_type": "code",
   "execution_count": 25,
   "metadata": {},
   "outputs": [
    {
     "name": "stdout",
     "output_type": "stream",
     "text": [
      "[[1, 2, 3], [4, 5, 6], [7, 8, 9], [10, 11]]\n"
     ]
    }
   ],
   "source": [
    "a = [1,2,3,4,5,6,7,8,9,10,11]\n",
    "step = 3\n",
    "b = [a[i:i+step] for i in range(0,len(a),step)]\n",
    "print(b)\n"
   ]
  },
  {
   "cell_type": "code",
   "execution_count": 26,
   "metadata": {},
   "outputs": [
    {
     "name": "stdout",
     "output_type": "stream",
     "text": [
      "[1, 2, 3]\n",
      "[4, 5, 6]\n",
      "[7, 8, 9]\n",
      "[10, 11, 12]\n",
      "[13, 14]\n"
     ]
    }
   ],
   "source": [
    "a = [1,2,3,4,5,6,7,8,9,10,11,12,13,14]\n",
    "step = 3\n",
    "b = [a[i:i+step] for i in range(0,len(a),step)]\n",
    "\n",
    "for x in b:\n",
    "    print(x)"
   ]
  },
  {
   "cell_type": "code",
   "execution_count": 34,
   "metadata": {},
   "outputs": [
    {
     "name": "stdout",
     "output_type": "stream",
     "text": [
      "[[1 2 3]\n",
      " [3 2 1]]\n"
     ]
    },
    {
     "data": {
      "text/plain": [
       "array([1, 2, 3, 2])"
      ]
     },
     "execution_count": 34,
     "metadata": {},
     "output_type": "execute_result"
    }
   ],
   "source": [
    "a = np.array([[1,2,3],[3,2,1]])\n",
    "print(a)\n",
    "\n",
    "a[:,0:2].flatten()"
   ]
  },
  {
   "cell_type": "code",
   "execution_count": 36,
   "metadata": {},
   "outputs": [
    {
     "data": {
      "image/png": "[encoded data removed]",
      "text/plain": [
       "<Figure size 432x288 with 1 Axes>"
      ]
     },
     "metadata": {
      "needs_background": "light"
     },
     "output_type": "display_data"
    }
   ],
   "source": [
    "a = [[1,2,3,4,3,2,1,3,2,1,3],[3,2,1,1,3]]\n",
    "g = plt.boxplot(a)"
   ]
  },
  {
   "cell_type": "code",
   "execution_count": 44,
   "metadata": {},
   "outputs": [
    {
     "name": "stdout",
     "output_type": "stream",
     "text": [
      "[[1]\n",
      " [2]\n",
      " [3]]\n",
      "[[1 2 3]]\n"
     ]
    },
    {
     "data": {
      "text/plain": [
       "[1, 2, 3]"
      ]
     },
     "execution_count": 44,
     "metadata": {},
     "output_type": "execute_result"
    }
   ],
   "source": [
    "a=np.array([[1],[2],[3]])\n",
    "print(a)\n",
    "print(a.T)\n",
    "a.flatten().tolist()"
   ]
  },
  {
   "cell_type": "code",
   "execution_count": 47,
   "metadata": {},
   "outputs": [
    {
     "data": {
      "text/plain": [
       "[1, 2, 3, 4]"
      ]
     },
     "execution_count": 47,
     "metadata": {},
     "output_type": "execute_result"
    }
   ],
   "source": [
    "[1,2] +[3,4]"
   ]
  },
  {
   "cell_type": "code",
   "execution_count": 50,
   "metadata": {},
   "outputs": [
    {
     "data": {
      "text/plain": [
       "array([1, 2, 3, 4])"
      ]
     },
     "execution_count": 50,
     "metadata": {},
     "output_type": "execute_result"
    }
   ],
   "source": [
    "np.append(np.array([1,2]), np.array([3,4]))"
   ]
  },
  {
   "cell_type": "code",
   "execution_count": 34,
   "metadata": {},
   "outputs": [
    {
     "name": "stdout",
     "output_type": "stream",
     "text": [
      "mu,std: 22.727272727272727 36.43447645267001\n"
     ]
    },
    {
     "data": {
      "image/png": "[encoded data removed]",
      "text/plain": [
       "<Figure size 432x288 with 1 Axes>"
      ]
     },
     "metadata": {
      "needs_background": "light"
     },
     "output_type": "display_data"
    }
   ],
   "source": [
    "import numpy as np\n",
    "from scipy.stats import norm\n",
    "import matplotlib.pyplot as plt\n",
    "\n",
    "#data = norm.rvs(10,2.5,size=500)\n",
    "data = [2, 2, 3, 2, 25, 130, 36, 36, 12, 1, 1]\n",
    "mu,std = norm.fit(data)\n",
    "print('mu,std:',mu,std)\n",
    "\n",
    "plt.hist(data, density=True, alpha=0.6, color='g')\n",
    "\n",
    "# Plot the PDF.\n",
    "xmin, xmax = plt.xlim()\n",
    "x = np.linspace(xmin, xmax, 100)\n",
    "p = norm.pdf(x, mu, std)\n",
    "plt.plot(x, p, 'k', linewidth=2)\n",
    "plt.show()"
   ]
  },
  {
   "cell_type": "code",
   "execution_count": 48,
   "metadata": {},
   "outputs": [
    {
     "name": "stdout",
     "output_type": "stream",
     "text": [
      "{'base': {'A': 0, 'T': 0, 'C': 0, 'G': 0}, 'position': {'1': 0, '2': 0, '3': 0, '4': 0, '5': 0}}\n",
      "[['A', 'A', 'T', 'T', 'G'], ['G', 'T', 'A', 'T', 'C'], ['T', 'A', 'C', 'G', 'A'], ['C', 'A', 'T', 'G', 'A'], ['T', 'T', 'C', 'G', 'A'], ['G', 'T', 'A', 'C', 'C']]\n"
     ]
    }
   ],
   "source": [
    "dict_2d = {'base': {'A': 0, 'T': 0, 'C': 0, 'G': 0}, 'position': {'1': 0, '2': 0, '3': 0, '4': 0, '5': 0}}\n",
    "print(dict_2d)\n",
    "list_base = [['A', 'A', 'T', 'T', 'G'],['G', 'T', 'A', 'T', 'C'],['T', 'A', 'C', 'G','A'],['C', 'A', 'T', 'G', 'A'],['T', 'T', 'C', 'G','A'],['G', 'T', 'A', 'C', 'C']]\n",
    "print(list_base)"
   ]
  },
  {
   "cell_type": "code",
   "execution_count": 35,
   "metadata": {},
   "outputs": [
    {
     "name": "stdout",
     "output_type": "stream",
     "text": [
      "-5.450000000000001 136.45\n",
      "[ -5.45        -4.01666667  -2.58333333  -1.15         0.28333333\n",
      "   1.71666667   3.15         4.58333333   6.01666667   7.45\n",
      "   8.88333333  10.31666667  11.75        13.18333333  14.61666667\n",
      "  16.05        17.48333333  18.91666667  20.35        21.78333333\n",
      "  23.21666667  24.65        26.08333333  27.51666667  28.95\n",
      "  30.38333333  31.81666667  33.25        34.68333333  36.11666667\n",
      "  37.55        38.98333333  40.41666667  41.85        43.28333333\n",
      "  44.71666667  46.15        47.58333333  49.01666667  50.45\n",
      "  51.88333333  53.31666667  54.75        56.18333333  57.61666667\n",
      "  59.05        60.48333333  61.91666667  63.35        64.78333333\n",
      "  66.21666667  67.65        69.08333333  70.51666667  71.95\n",
      "  73.38333333  74.81666667  76.25        77.68333333  79.11666667\n",
      "  80.55        81.98333333  83.41666667  84.85        86.28333333\n",
      "  87.71666667  89.15        90.58333333  92.01666667  93.45\n",
      "  94.88333333  96.31666667  97.75        99.18333333 100.61666667\n",
      " 102.05       103.48333333 104.91666667 106.35       107.78333333\n",
      " 109.21666667 110.65       112.08333333 113.51666667 114.95\n",
      " 116.38333333 117.81666667 119.25       120.68333333 122.11666667\n",
      " 123.55       124.98333333 126.41666667 127.85       129.28333333\n",
      " 130.71666667 132.15       133.58333333 135.01666667 136.45      ]\n",
      "[8.11936479e-03 8.36371277e-03 8.60209104e-03 8.83358167e-03\n",
      " 9.05727371e-03 9.27226906e-03 9.47768844e-03 9.67267732e-03\n",
      " 9.85641183e-03 1.00281045e-02 1.01870100e-02 1.03324303e-02\n",
      " 1.04637198e-02 1.05802904e-02 1.06816157e-02 1.07672346e-02\n",
      " 1.08367554e-02 1.08898585e-02 1.09262988e-02 1.09459076e-02\n",
      " 1.09485941e-02 1.09343456e-02 1.09032284e-02 1.08553866e-02\n",
      " 1.07910411e-02 1.07104882e-02 1.06140972e-02 1.05023073e-02\n",
      " 1.03756246e-02 1.02346183e-02 1.00799161e-02 9.91220003e-03\n",
      " 9.73220090e-03 9.54069347e-03 9.33849067e-03 9.12643795e-03\n",
      " 8.90540737e-03 8.67629172e-03 8.43999852e-03 8.19744411e-03\n",
      " 7.94954784e-03 7.69722639e-03 7.44138822e-03 7.18292834e-03\n",
      " 6.92272333e-03 6.66162659e-03 6.40046409e-03 6.14003030e-03\n",
      " 5.88108469e-03 5.62434848e-03 5.37050196e-03 5.12018209e-03\n",
      " 4.87398067e-03 4.63244283e-03 4.39606600e-03 4.16529925e-03\n",
      " 3.94054311e-03 3.72214962e-03 3.51042290e-03 3.30561996e-03\n",
      " 3.10795179e-03 2.91758485e-03 2.73464267e-03 2.55920777e-03\n",
      " 2.39132374e-03 2.23099746e-03 2.07820145e-03 1.93287639e-03\n",
      " 1.79493361e-03 1.66425767e-03 1.54070897e-03 1.42412637e-03\n",
      " 1.31432967e-03 1.21112221e-03 1.11429323e-03 1.02362029e-03\n",
      " 9.38871483e-04 8.59807601e-04 7.86184147e-04 7.17753226e-04\n",
      " 6.54265310e-04 5.95470847e-04 5.41121741e-04 4.90972686e-04\n",
      " 4.44782356e-04 4.02314456e-04 3.63338648e-04 3.27631328e-04\n",
      " 2.94976296e-04 2.65165296e-04 2.37998445e-04 2.13284563e-04\n",
      " 1.90841401e-04 1.70495782e-04 1.52083659e-04 1.35450102e-04\n",
      " 1.20449218e-04 1.06944021e-04 9.48062345e-05 8.39160741e-05]\n"
     ]
    }
   ],
   "source": [
    "print(xmin,xmax)\n",
    "#print(x)\n",
    "print(p)"
   ]
  },
  {
   "cell_type": "code",
   "execution_count": 27,
   "metadata": {},
   "outputs": [
    {
     "data": {
      "text/plain": [
       "array([13.0079791 , 15.94532839,  8.8627225 , 13.19741022, 12.72127489,\n",
       "       10.38693524, 10.42456689,  9.99568079,  8.02127342, 14.03794868,\n",
       "        8.75732   ,  6.16527872,  9.85158238, 10.48975124, 10.60438242,\n",
       "       10.85350149,  8.840346  , 10.96080651,  8.75480973, 10.13346288,\n",
       "        9.42119779, 12.28551397, 11.33978392, 10.14925115, 10.34920634,\n",
       "       13.26388918, 11.53468187,  3.95211996, 11.50271799,  8.72148135,\n",
       "        9.93356333,  7.46324579,  6.62195294,  8.84027473,  9.6513149 ,\n",
       "       11.72244594, 12.55388098, 11.04406128,  9.06789375,  8.18612588,\n",
       "       13.67406011,  9.57486985,  6.50542815,  5.53589188,  6.91456193,\n",
       "        9.78802021,  8.23322079, 10.2409022 ,  6.49014316, 12.07070503,\n",
       "        9.59867657,  8.83170855, 12.53172406,  9.92301335, 11.8762804 ,\n",
       "        7.48491825,  9.35866591,  9.24253303, 12.12110046,  6.76989228,\n",
       "       11.75232963, 12.14011204, 11.31851165, 10.36146906,  9.29812642,\n",
       "        9.83757445, 11.86353328,  6.39269731,  6.56643845, 13.22313332,\n",
       "       12.2242214 , 13.24033433, 12.63158782,  7.57594608, 11.77038368,\n",
       "       11.74459629, 12.21684487, 12.26053657, 17.13152184, 12.31008817,\n",
       "        7.11656524,  8.65114565,  6.26025784, 13.338037  , 13.12100717,\n",
       "        6.39050645, 11.56448639,  9.30999587,  7.7668624 ,  6.34057851,\n",
       "       10.75932259, 11.32313436,  9.07307205, 14.44826529,  8.79996337,\n",
       "        4.85048159,  8.39153084,  9.18908434,  9.30175488, 14.06340242,\n",
       "        8.39499139, 10.48637954,  9.22515827, 12.78601015, 10.57672301,\n",
       "       13.06021135, 11.06328303,  8.95377989, 16.16354746,  8.85490901,\n",
       "        9.73458824, 14.21569231, 11.85917124,  8.0592721 , 10.1516954 ,\n",
       "       10.71585712,  7.01540865,  9.2817163 , 15.35455583, 12.79825815,\n",
       "       11.59564178,  8.04150092, 10.20920537, 14.35410248, 11.28878309,\n",
       "       10.3472462 , 10.35949165,  8.64174636,  8.77212029, 10.01537637,\n",
       "        9.03291039,  8.92042767, 11.5232145 , 11.38345848,  7.59016191,\n",
       "        9.77928145, 12.17811674,  9.86914873, 10.38213079, 11.90751664,\n",
       "        4.88883303, 10.32665828, 11.99830009, 15.74461547,  9.9424922 ,\n",
       "        9.74574589,  8.3571552 ,  9.84042893, 10.59592854, 15.52089315,\n",
       "        8.96186767, 12.6236159 , 11.57615837, 11.1325343 ,  6.911551  ,\n",
       "       10.33859825,  9.14462536,  8.26191554,  9.04535177,  5.72926888,\n",
       "       10.75305541, 12.08821985,  8.27497804,  9.14951382, 13.50045829,\n",
       "       13.96394501,  7.1770287 ,  9.30687224,  9.54520224, 11.32013279,\n",
       "       10.99472704,  9.34112042,  9.78706965, 10.66029932,  9.16803967,\n",
       "       12.6510906 ,  7.70394625,  7.92575484, 10.68035456,  9.79043963,\n",
       "       10.95601523,  8.72374498,  8.81820577,  9.2905017 ,  8.73005427,\n",
       "        9.51569282, 13.6481712 , 10.87164345,  9.0435899 ,  8.49726996,\n",
       "        7.93195359, 11.67390415,  7.2950634 , 10.51846436,  8.05467305,\n",
       "        8.00020188, 12.9303029 ,  7.15140291,  7.50952955,  7.57492567,\n",
       "       12.07362324,  3.79744035,  8.81144546, 10.80995487,  8.70975494,\n",
       "       11.42864867, 12.86379481,  9.59279461,  4.22724113, 11.96249751,\n",
       "       10.55838687,  7.21165227, 11.06207684, 12.03613944, 13.27734519,\n",
       "       15.31163806,  9.92839203,  9.2379396 , 10.49617997, 10.35450116,\n",
       "       10.74341298,  7.66141022, 11.17046771,  9.91233611,  8.74897632,\n",
       "        6.42674296,  9.77558563, 10.5815644 ,  6.61815532, 11.65696009,\n",
       "        9.01212227,  9.54432613,  8.27738608, 12.09622358,  9.15744796,\n",
       "       12.34150978, 12.84689837,  8.94912793,  8.81144054,  5.23177472,\n",
       "        9.82795533,  8.60478196, 13.88817632,  9.39959715,  7.68532364,\n",
       "       11.88123286,  9.89482035,  8.99062108,  9.33289759,  7.00630047,\n",
       "        2.59716056, 11.06298748, 12.53406073,  9.05920949, 12.14876911,\n",
       "        8.68940035, 12.54966591, 12.40318433,  8.32742533, 12.91964484,\n",
       "       12.12514856, 11.09378117,  8.54961031,  6.26631138, 10.34722722,\n",
       "       13.01747313, 12.76856483, 11.91636107,  8.46288587, 12.0670842 ,\n",
       "        8.77149551, 12.94028557, 12.94658004,  6.41800559,  8.40582857,\n",
       "       12.74695911,  8.20031556,  5.83416023, 12.43894736, 11.10056525,\n",
       "       12.13080637,  8.1011376 , 11.44105762, 12.35744389, 14.31934927,\n",
       "        5.66327682, 13.39792969,  8.21995954, 11.21932537,  9.38413044,\n",
       "        8.12906494,  9.09937656,  6.15041642, 12.18160895,  9.01107264,\n",
       "       10.48905934,  4.87749861,  9.35406688,  9.19688006, 11.31618526,\n",
       "       10.76203056,  9.87318853, 12.65049752, 12.94904563, 12.61986706,\n",
       "        9.99048048,  7.80375027,  6.61855874,  7.18017558,  9.10048711,\n",
       "       11.65830509, 11.68443478,  7.50935859,  9.77360223, 12.31452843,\n",
       "        8.54850088, 11.223718  ,  8.4151376 , 13.26894954, 13.42880246,\n",
       "        9.85114769,  7.60273668,  7.75568137, 14.53574022, 10.64833808,\n",
       "       13.86314452, 12.85696831,  7.06035738, 11.6632716 , 10.45637282,\n",
       "        4.78348202,  9.69819375, 14.07949603,  5.901438  ,  8.56420984,\n",
       "        8.64860987,  7.10450153, 11.83068244, 12.00308281,  5.41995665,\n",
       "        8.48690668,  6.84160835, 13.2770981 ,  5.28279434, 11.00950284,\n",
       "       12.55491612,  8.42468118,  9.89855137,  9.30584943, 10.805762  ,\n",
       "       12.41855186,  8.14925058, 14.04237033, 15.4841252 , 15.39851876,\n",
       "       10.10744643,  9.35270442, 10.19906323,  9.76148719,  5.25181335,\n",
       "        9.10820002, 13.04140637,  8.25587297,  7.73936002,  9.46998436,\n",
       "        7.7422032 , 14.03269393, 11.20688131, 13.57309352,  8.58237626,\n",
       "        6.56251141,  9.00618282,  9.03294848, 10.47173104, 14.38592605,\n",
       "        7.69489224, 13.63930905, 10.62759775, 15.63447392, 10.66925982,\n",
       "        2.83486295,  6.93760222, 12.40777366,  9.96389157,  8.58706901,\n",
       "       12.56554079,  9.42668693, 11.18013708,  8.25786967, 15.48584841,\n",
       "       10.09093971, 12.43910523,  8.11489301,  6.90188312, 11.51425893,\n",
       "        9.54114826, 11.51173111, 12.45533142, 14.51468884,  6.32439447,\n",
       "        5.21820827, 11.16426831, 12.29182116, 12.0648893 ,  9.58183895,\n",
       "       10.00953252, 12.13255926, 11.4598069 , 10.98479729,  6.16002323,\n",
       "       10.070653  , 10.34232619,  6.88145258, 11.55078114,  9.88876786,\n",
       "        7.18175196, 10.56669427,  6.96167573, 12.37843305, 10.20600871,\n",
       "        8.80031936, 13.35008963, 12.69232679,  6.88989768, 11.75032992,\n",
       "       11.00208608, 10.19395197,  5.97369404, 12.27366045, 11.07231279,\n",
       "       10.81171055, 12.84445577, 11.30534626, 12.60157877,  7.93082585,\n",
       "       16.69029841,  7.28228628, 13.07065785, 13.94224281, 11.39763526,\n",
       "        8.97705856,  8.46942088,  9.19839189, 12.7479768 , 12.32394056,\n",
       "        8.43150614, 10.44950607,  7.08903176,  6.38060307,  3.62277178,\n",
       "        7.18018685,  8.57265027, 14.66332915, 13.62565051,  9.22801536,\n",
       "        7.09617034,  6.4116906 , 12.21287614, 12.58413874,  7.62123244,\n",
       "        8.26834122,  5.4227894 , 10.25366859,  8.85436293,  8.11921425,\n",
       "       11.44865074,  9.2168627 , 13.71901147,  7.41072646, 10.82481811,\n",
       "        7.30039155,  5.31421232, 10.14673487, 11.82225447, 11.78889309,\n",
       "        4.20631343, 13.3415665 ,  8.32854169,  6.58489208,  2.05352246,\n",
       "       13.10847048, 13.64930038, 12.20935393,  6.58072095, 16.27917411,\n",
       "       10.47124378, 10.41672813, 10.34789985,  7.48556224, 12.80103117,\n",
       "       10.59677918, 13.64150655,  9.08781777,  5.64723273, 11.92361584,\n",
       "       11.10247763, 12.04908261,  4.62525829,  6.44418387, 11.98248489])"
      ]
     },
     "execution_count": 27,
     "metadata": {},
     "output_type": "execute_result"
    }
   ],
   "source": [
    "data"
   ]
  },
  {
   "cell_type": "code",
   "execution_count": null,
   "metadata": {},
   "outputs": [],
   "source": []
  }
 ],
 "metadata": {
  "interpreter": {
   "hash": "31f2aee4e71d21fbe5cf8b01ff0e069b9275f58929596ceb00d14d90e3e16cd6"
  },
  "kernelspec": {
   "display_name": "Python 3.6.9 64-bit",
   "language": "python",
   "name": "python3"
  },
  "language_info": {
   "codemirror_mode": {
    "name": "ipython",
    "version": 3
   },
   "file_extension": ".py",
   "mimetype": "text/x-python",
   "name": "python",
   "nbconvert_exporter": "python",
   "pygments_lexer": "ipython3",
   "version": "3.6.9"
  },
  "orig_nbformat": 4
 },
 "nbformat": 4,
 "nbformat_minor": 2
}
